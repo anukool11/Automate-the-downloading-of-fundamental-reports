{
 "cells": [
  {
   "cell_type": "code",
   "execution_count": 26,
   "metadata": {},
   "outputs": [],
   "source": [
    "import urllib\n",
    "from urllib.request import urlretrieve\n",
    "import requests\n",
    "from bs4 import BeautifulSoup as bs\n",
    "from selenium import webdriver\n",
    "from selenium.webdriver.common.by import By\n",
    "from selenium.webdriver.chrome.options import Options\n",
    "from selenium.webdriver.chrome.service import Service\n",
    "from selenium.webdriver.support.ui import WebDriverWait\n",
    "from selenium.webdriver.support.ui import WebDriverWait\n",
    "from selenium.webdriver.support import expected_conditions as EC\n",
    "from selenium.webdriver.common.proxy import Proxy, ProxyType\n",
    "import time\n",
    "import os"
   ]
  },
  {
   "cell_type": "code",
   "execution_count": 33,
   "metadata": {},
   "outputs": [],
   "source": [
    "s = Service(\"C:/Projects/Portfolio codes/chromedriver-win64/chromedriver-win64/chromedriver.exe\")\n",
    "options = webdriver.ChromeOptions()\n",
    "options.add_experimental_option(\"excludeSwitches\", [\"enable-automation\"])\n",
    "options.add_experimental_option('useAutomationExtension', False)\n",
    "options.add_argument('--disable-blink-features=AutomationControlled')\n",
    "\n",
    "driver = webdriver.Chrome(service=s,options=options)"
   ]
  },
  {
   "cell_type": "code",
   "execution_count": 55,
   "metadata": {},
   "outputs": [],
   "source": [
    "def get_url(com):\n",
    "    driver.get('https://trendlyne.com/equity/647/ITC/itc-ltd/')\n",
    "    driver.find_element(By.XPATH, \"//input[@name='search']\").send_keys(com)\n",
    "    time.sleep(2)\n",
    "    a = driver.find_element(By.XPATH, \"//div[@class='searchBarNavLinks mt025rem']\")\n",
    "    href = a.find_elements(By.TAG_NAME, 'a')[0].get_attribute('href')\n",
    "    href.split('equity/')[1]\n",
    "    url = 'https://trendlyne.com/fundamentals/documents-annual-reports/'+href.split('equity/')[1]\n",
    "    return url"
   ]
  },
  {
   "cell_type": "code",
   "execution_count": 56,
   "metadata": {},
   "outputs": [],
   "source": [
    "companies = ['ITC', 'ASIANPAINT']"
   ]
  },
  {
   "cell_type": "code",
   "execution_count": 57,
   "metadata": {},
   "outputs": [],
   "source": [
    "urls = []\n",
    "for com in companies:\n",
    "    url = get_url(com)\n",
    "    urls.append(url)"
   ]
  },
  {
   "cell_type": "code",
   "execution_count": 58,
   "metadata": {},
   "outputs": [
    {
     "data": {
      "text/plain": [
       "['https://trendlyne.com/fundamentals/documents-annual-reports/647/ITC/itc-ltd/',\n",
       " 'https://trendlyne.com/fundamentals/documents-annual-reports/117/ASIANPAINT/asian-paints-ltd/']"
      ]
     },
     "execution_count": 58,
     "metadata": {},
     "output_type": "execute_result"
    }
   ],
   "source": [
    "urls"
   ]
  },
  {
   "cell_type": "code",
   "execution_count": 62,
   "metadata": {},
   "outputs": [
    {
     "name": "stdout",
     "output_type": "stream",
     "text": [
      "Annual Reports/itc-ltd/Annual Report Mar-2023.pdf\n",
      "Annual Reports/itc-ltd/Annual Report Mar-2022.pdf\n",
      "Annual Reports/itc-ltd/Annual Report Mar-2021.pdf\n",
      "Annual Reports/itc-ltd/Annual Report Mar-2020.pdf\n",
      "Annual Reports/itc-ltd/Annual Report Mar-2019.pdf\n",
      "Annual Reports/itc-ltd/Annual Report Mar-2018.pdf\n",
      "Annual Reports/itc-ltd/Annual Report Mar-2017.pdf\n",
      "Annual Reports/itc-ltd/Annual Report Mar-2016.pdf\n",
      "Annual Reports/itc-ltd/Annual Report Mar-2015.pdf\n",
      "Annual Reports/itc-ltd/Annual Report Mar-2014.pdf\n",
      "Annual Reports/itc-ltd/Annual Report Mar-2013.pdf\n",
      "Annual Reports/itc-ltd/Annual Report Mar-2012.pdf\n",
      "Annual Reports/itc-ltd/Annual Report Mar-2011.pdf\n",
      "Annual Reports/asian-paints-ltd/Annual Report Mar-2023.pdf\n",
      "Annual Reports/asian-paints-ltd/Annual Report Mar-2022.pdf\n",
      "Annual Reports/asian-paints-ltd/Annual Report Mar-2021.pdf\n",
      "Annual Reports/asian-paints-ltd/Annual Report Mar-2020.pdf\n",
      "Annual Reports/asian-paints-ltd/Annual Report Mar-2019.pdf\n",
      "Annual Reports/asian-paints-ltd/Annual Report Mar-2018.pdf\n",
      "Annual Reports/asian-paints-ltd/Annual Report Mar-2017.pdf\n",
      "Annual Reports/asian-paints-ltd/Annual Report Mar-2016.pdf\n",
      "Annual Reports/asian-paints-ltd/Annual Report Mar-2015.pdf\n",
      "Annual Reports/asian-paints-ltd/Annual Report Mar-2014.pdf\n",
      "Annual Reports/asian-paints-ltd/Annual Report Mar-2013.pdf\n",
      "Annual Reports/asian-paints-ltd/Annual Report Mar-2012.pdf\n",
      "Annual Reports/asian-paints-ltd/Annual Report Mar-2011.pdf\n"
     ]
    }
   ],
   "source": [
    "for url in urls:\n",
    "    company_name = url.split('/')[-2]\n",
    "    folder = 'Annual Reports/'+company_name\n",
    "    folder\n",
    "    os.mkdir(folder)\n",
    "    \n",
    "    webpage = requests.get(url, headers={'User-Agent': 'whatever'})\n",
    "    soup = bs(webpage.text, 'html.parser')\n",
    "    \n",
    "    reports = soup.find_all(class_ = \"annual-reports-card disflex mt1r p6\")\n",
    "\n",
    "    for report in reports:\n",
    "        report_title = report.find(class_ = \"title\").text\n",
    "        report_link = report.find(class_ = \"pdf-btn\").find('a', href=True)['href']\n",
    "\n",
    "        driver.get(report_link)\n",
    "        url = driver.current_url\n",
    "\n",
    "        path = folder+'/'+report_title+'.pdf'\n",
    "        print(path)\n",
    "\n",
    "        opener = urllib.request.URLopener()\n",
    "        opener.addheader('User-Agent', 'whatever')\n",
    "        opener.retrieve(url, path)\n",
    "        time.sleep(3)\n"
   ]
  },
  {
   "cell_type": "code",
   "execution_count": null,
   "metadata": {},
   "outputs": [],
   "source": []
  }
 ],
 "metadata": {
  "kernelspec": {
   "display_name": "Python 3",
   "language": "python",
   "name": "python3"
  },
  "language_info": {
   "codemirror_mode": {
    "name": "ipython",
    "version": 3
   },
   "file_extension": ".py",
   "mimetype": "text/x-python",
   "name": "python",
   "nbconvert_exporter": "python",
   "pygments_lexer": "ipython3",
   "version": "3.10.8"
  },
  "orig_nbformat": 4
 },
 "nbformat": 4,
 "nbformat_minor": 2
}
